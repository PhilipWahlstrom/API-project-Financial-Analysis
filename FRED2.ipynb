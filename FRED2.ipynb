{
 "cells": [
  {
   "cell_type": "code",
   "execution_count": null,
   "id": "2dedf730",
   "metadata": {},
   "outputs": [],
   "source": [
    "# https://www.topdowncharts.com/post/2018/05/12/8-free-macro-and-market-data-sources"
   ]
  },
  {
   "cell_type": "code",
   "execution_count": 1,
   "id": "0ad02dfd",
   "metadata": {},
   "outputs": [],
   "source": [
    "import pandas as pd\n",
    "import json\n",
    "import requests"
   ]
  },
  {
   "cell_type": "markdown",
   "id": "c83893e9",
   "metadata": {},
   "source": [
    "# FRED\n"
   ]
  },
  {
   "cell_type": "code",
   "execution_count": null,
   "id": "12d5ac60",
   "metadata": {},
   "outputs": [],
   "source": [
    "# https://stackoverflow.com/questions/34768206/fred-economic-series-ids\n",
    "# https://fred.stlouisfed.org/docs/api/fred/category_series.html#api_key\n"
   ]
  },
  {
   "cell_type": "code",
   "execution_count": null,
   "id": "48ff9f73",
   "metadata": {},
   "outputs": [],
   "source": []
  },
  {
   "cell_type": "markdown",
   "id": "2ff1141b-5a72-4347-988b-e600607ec717",
   "metadata": {},
   "source": [
    "# YFinance - Yahoo Finance"
   ]
  },
  {
   "cell_type": "code",
   "execution_count": 44,
   "id": "be76e00e",
   "metadata": {
    "collapsed": true,
    "jupyter": {
     "outputs_hidden": true
    },
    "tags": []
   },
   "outputs": [
    {
     "name": "stdout",
     "output_type": "stream",
     "text": [
      "Collecting yfinance\n",
      "  Downloading yfinance-0.1.70-py2.py3-none-any.whl (26 kB)\n",
      "Requirement already satisfied: lxml>=4.5.1 in /Users/philipwahlstrom/opt/anaconda3/lib/python3.9/site-packages (from yfinance) (4.6.3)\n",
      "Requirement already satisfied: pandas>=0.24.0 in /Users/philipwahlstrom/opt/anaconda3/lib/python3.9/site-packages (from yfinance) (1.3.4)\n",
      "Requirement already satisfied: requests>=2.26 in /Users/philipwahlstrom/opt/anaconda3/lib/python3.9/site-packages (from yfinance) (2.26.0)\n",
      "Requirement already satisfied: numpy>=1.15 in /Users/philipwahlstrom/opt/anaconda3/lib/python3.9/site-packages (from yfinance) (1.20.3)\n",
      "Collecting multitasking>=0.0.7\n",
      "  Downloading multitasking-0.0.10.tar.gz (8.2 kB)\n",
      "Requirement already satisfied: python-dateutil>=2.7.3 in /Users/philipwahlstrom/opt/anaconda3/lib/python3.9/site-packages (from pandas>=0.24.0->yfinance) (2.8.2)\n",
      "Requirement already satisfied: pytz>=2017.3 in /Users/philipwahlstrom/opt/anaconda3/lib/python3.9/site-packages (from pandas>=0.24.0->yfinance) (2021.3)\n",
      "Requirement already satisfied: six>=1.5 in /Users/philipwahlstrom/opt/anaconda3/lib/python3.9/site-packages (from python-dateutil>=2.7.3->pandas>=0.24.0->yfinance) (1.16.0)\n",
      "Requirement already satisfied: charset-normalizer~=2.0.0 in /Users/philipwahlstrom/opt/anaconda3/lib/python3.9/site-packages (from requests>=2.26->yfinance) (2.0.4)\n",
      "Requirement already satisfied: urllib3<1.27,>=1.21.1 in /Users/philipwahlstrom/opt/anaconda3/lib/python3.9/site-packages (from requests>=2.26->yfinance) (1.26.7)\n",
      "Requirement already satisfied: idna<4,>=2.5 in /Users/philipwahlstrom/opt/anaconda3/lib/python3.9/site-packages (from requests>=2.26->yfinance) (3.2)\n",
      "Requirement already satisfied: certifi>=2017.4.17 in /Users/philipwahlstrom/opt/anaconda3/lib/python3.9/site-packages (from requests>=2.26->yfinance) (2021.10.8)\n",
      "Building wheels for collected packages: multitasking\n",
      "  Building wheel for multitasking (setup.py) ... \u001b[?25ldone\n",
      "\u001b[?25h  Created wheel for multitasking: filename=multitasking-0.0.10-py3-none-any.whl size=8500 sha256=921770deb8c9c58ad86f6e8400b9859721c8b16c956b1cef7997b641e89b261f\n",
      "  Stored in directory: /Users/philipwahlstrom/Library/Caches/pip/wheels/f2/b5/2c/59ba95dcf854e542944c75fe3da584e4e3833b319735a0546c\n",
      "Successfully built multitasking\n",
      "Installing collected packages: multitasking, yfinance\n",
      "Successfully installed multitasking-0.0.10 yfinance-0.1.70\n"
     ]
    }
   ],
   "source": [
    "! pip install yfinance"
   ]
  },
  {
   "cell_type": "code",
   "execution_count": 157,
   "id": "228b1c24",
   "metadata": {},
   "outputs": [],
   "source": [
    "import yfinance as yf"
   ]
  },
  {
   "cell_type": "code",
   "execution_count": null,
   "id": "49673328",
   "metadata": {},
   "outputs": [],
   "source": []
  },
  {
   "cell_type": "code",
   "execution_count": null,
   "id": "b3f0f785",
   "metadata": {},
   "outputs": [],
   "source": []
  },
  {
   "cell_type": "code",
   "execution_count": null,
   "id": "5571b993",
   "metadata": {},
   "outputs": [],
   "source": []
  },
  {
   "cell_type": "code",
   "execution_count": 17,
   "id": "dbdfeb88",
   "metadata": {},
   "outputs": [],
   "source": [
    "# https://towardsdev.com/fred-api-get-us-economic-data-using-python-e51ac8e7b1cc"
   ]
  },
  {
   "cell_type": "code",
   "execution_count": 18,
   "id": "767b84eb",
   "metadata": {},
   "outputs": [],
   "source": [
    "# https://analyzingalpha.com/fred-api-python/"
   ]
  },
  {
   "cell_type": "code",
   "execution_count": null,
   "id": "51494fc6",
   "metadata": {},
   "outputs": [],
   "source": [
    "# https://stackoverflow.com/questions/34768206/fred-economic-series-ids"
   ]
  },
  {
   "cell_type": "code",
   "execution_count": null,
   "id": "fbb98320",
   "metadata": {},
   "outputs": [],
   "source": []
  },
  {
   "cell_type": "markdown",
   "id": "84df6398",
   "metadata": {},
   "source": [
    "# API-module for St.Louis FED (FRED) \n",
    "## full-fred"
   ]
  },
  {
   "cell_type": "code",
   "execution_count": null,
   "id": "d3eca558",
   "metadata": {},
   "outputs": [],
   "source": [
    "# https://github.com/7astro7/full_fred"
   ]
  },
  {
   "cell_type": "code",
   "execution_count": 6,
   "id": "4eb50889",
   "metadata": {
    "collapsed": true,
    "jupyter": {
     "outputs_hidden": true
    },
    "tags": []
   },
   "outputs": [
    {
     "name": "stdout",
     "output_type": "stream",
     "text": [
      "Collecting full-fred\n",
      "  Downloading full_fred-0.0.9a3-py3-none-any.whl (47 kB)\n",
      "\u001b[K     |████████████████████████████████| 47 kB 1.1 MB/s eta 0:00:01\n",
      "\u001b[?25hRequirement already satisfied: pandas in /Users/philipwahlstrom/opt/anaconda3/lib/python3.9/site-packages (from full-fred) (1.3.4)\n",
      "Requirement already satisfied: requests in /Users/philipwahlstrom/opt/anaconda3/lib/python3.9/site-packages (from full-fred) (2.26.0)\n",
      "Requirement already satisfied: python-dateutil>=2.7.3 in /Users/philipwahlstrom/opt/anaconda3/lib/python3.9/site-packages (from pandas->full-fred) (2.8.2)\n",
      "Requirement already satisfied: pytz>=2017.3 in /Users/philipwahlstrom/opt/anaconda3/lib/python3.9/site-packages (from pandas->full-fred) (2021.3)\n",
      "Requirement already satisfied: numpy>=1.17.3 in /Users/philipwahlstrom/opt/anaconda3/lib/python3.9/site-packages (from pandas->full-fred) (1.20.3)\n",
      "Requirement already satisfied: six>=1.5 in /Users/philipwahlstrom/opt/anaconda3/lib/python3.9/site-packages (from python-dateutil>=2.7.3->pandas->full-fred) (1.16.0)\n",
      "Requirement already satisfied: certifi>=2017.4.17 in /Users/philipwahlstrom/opt/anaconda3/lib/python3.9/site-packages (from requests->full-fred) (2021.10.8)\n",
      "Requirement already satisfied: idna<4,>=2.5 in /Users/philipwahlstrom/opt/anaconda3/lib/python3.9/site-packages (from requests->full-fred) (3.2)\n",
      "Requirement already satisfied: urllib3<1.27,>=1.21.1 in /Users/philipwahlstrom/opt/anaconda3/lib/python3.9/site-packages (from requests->full-fred) (1.26.7)\n",
      "Requirement already satisfied: charset-normalizer~=2.0.0 in /Users/philipwahlstrom/opt/anaconda3/lib/python3.9/site-packages (from requests->full-fred) (2.0.4)\n",
      "Installing collected packages: full-fred\n",
      "Successfully installed full-fred-0.0.9a3\n",
      "Note: you may need to restart the kernel to use updated packages.\n"
     ]
    }
   ],
   "source": [
    "pip install full-fred"
   ]
  },
  {
   "cell_type": "code",
   "execution_count": 7,
   "id": "d412b172",
   "metadata": {},
   "outputs": [],
   "source": [
    "import pytest as pt\n",
    "import pandas as pd\n",
    "import numpy as np\n",
    "import matplotlib.pyplot as plt\n",
    "import datetime "
   ]
  },
  {
   "cell_type": "markdown",
   "id": "6aae5cfd-8afa-43d6-b497-4a5b369ff94b",
   "metadata": {},
   "source": [
    "### Initiate full-fred"
   ]
  },
  {
   "cell_type": "code",
   "execution_count": 3,
   "id": "956a196a",
   "metadata": {},
   "outputs": [],
   "source": [
    "from full_fred.fred import Fred"
   ]
  },
  {
   "cell_type": "code",
   "execution_count": 4,
   "id": "c4f50b6b",
   "metadata": {},
   "outputs": [],
   "source": [
    "fred = Fred('FRED API key.txt')"
   ]
  },
  {
   "cell_type": "code",
   "execution_count": 5,
   "id": "cd8c6289",
   "metadata": {},
   "outputs": [
    {
     "data": {
      "text/plain": [
       "'FRED API key.txt'"
      ]
     },
     "execution_count": 5,
     "metadata": {},
     "output_type": "execute_result"
    }
   ],
   "source": [
    "fred.get_api_key_file()"
   ]
  },
  {
   "cell_type": "code",
   "execution_count": 6,
   "id": "040cafa2",
   "metadata": {},
   "outputs": [
    {
     "data": {
      "text/plain": [
       "True"
      ]
     },
     "execution_count": 6,
     "metadata": {},
     "output_type": "execute_result"
    }
   ],
   "source": [
    "fred.set_api_key_file('FRED API key.txt')"
   ]
  },
  {
   "cell_type": "markdown",
   "id": "96672adc-d76c-46f9-985a-75fd4c23d298",
   "metadata": {},
   "source": [
    "### My functions:"
   ]
  },
  {
   "cell_type": "code",
   "execution_count": 35,
   "id": "1a7386f7",
   "metadata": {},
   "outputs": [],
   "source": [
    "def clean_df(df):\n",
    "    # Drop unwanted columns:\n",
    "    df.drop(['realtime_start', 'realtime_end'], axis=1, inplace=True)\n",
    "    # Make date into datetime, and set as index:\n",
    "    df['date'] = pd.to_datetime(df['date'])\n",
    "    df = df.set_index('date')\n",
    "    # Remove \".\" in data\n",
    "    miss_inx = df.loc[df.values == \".\"].index\n",
    "    df.drop(index=miss_inx, inplace=True)\n",
    "    \n",
    "    # Set 'value' to float:\n",
    "    df['value'] = df['value'].astype(float)\n",
    "    return df"
   ]
  },
  {
   "cell_type": "code",
   "execution_count": null,
   "id": "720b091a-0a53-4582-81f2-f33825ea5897",
   "metadata": {},
   "outputs": [],
   "source": []
  },
  {
   "cell_type": "code",
   "execution_count": 15,
   "id": "5ca6b14c-74a1-4f52-838c-738f603e78fe",
   "metadata": {},
   "outputs": [],
   "source": [
    "fig, ax1 = plt.subplots()\n",
    "ax1.plot(df_CPI)\n",
    "ax2 = ax1.twinx()\n",
    "ax2.plot(df_EURUSD2)"
   ]
  },
  {
   "cell_type": "code",
   "execution_count": null,
   "id": "8250fac9-d46a-4bf5-b9ef-6454c6a8e8b5",
   "metadata": {},
   "outputs": [],
   "source": []
  },
  {
   "cell_type": "code",
   "execution_count": null,
   "id": "09a3107e-cadc-47e9-bccd-48d8f6ad3b6a",
   "metadata": {},
   "outputs": [],
   "source": []
  },
  {
   "cell_type": "markdown",
   "id": "9de649d5-e5bc-49e1-94f6-145a0d3302fa",
   "metadata": {},
   "source": [
    "## Getting data from full-fred"
   ]
  },
  {
   "cell_type": "markdown",
   "id": "d303cd17",
   "metadata": {},
   "source": [
    "#### FRED EUR-interest rates:"
   ]
  },
  {
   "cell_type": "code",
   "execution_count": null,
   "id": "412b6c6b",
   "metadata": {},
   "outputs": [],
   "source": [
    "https://fred.stlouisfed.org/tags/series?t=euro+area%3Binterest+rate"
   ]
  },
  {
   "cell_type": "code",
   "execution_count": null,
   "id": "e48377bd-e88d-4f38-b469-5a1f80717818",
   "metadata": {},
   "outputs": [],
   "source": []
  },
  {
   "cell_type": "code",
   "execution_count": null,
   "id": "a0e4cd1a-fc97-4ff8-8b52-dcf61662ccbd",
   "metadata": {},
   "outputs": [],
   "source": [
    "# Example 1: Get EURUSD from FRED (as a DataFrame), clean it into a proper time-series:"
   ]
  },
  {
   "cell_type": "code",
   "execution_count": 38,
   "id": "b7c0784b-0cea-427f-ac2c-ec6436b669e4",
   "metadata": {},
   "outputs": [],
   "source": [
    "df_EURUSD = fred.get_series_df('DEXUSEU')"
   ]
  },
  {
   "cell_type": "code",
   "execution_count": 39,
   "id": "fb170554-7675-445a-9914-e3262aaa53fc",
   "metadata": {},
   "outputs": [
    {
     "data": {
      "text/html": [
       "<div>\n",
       "<style scoped>\n",
       "    .dataframe tbody tr th:only-of-type {\n",
       "        vertical-align: middle;\n",
       "    }\n",
       "\n",
       "    .dataframe tbody tr th {\n",
       "        vertical-align: top;\n",
       "    }\n",
       "\n",
       "    .dataframe thead th {\n",
       "        text-align: right;\n",
       "    }\n",
       "</style>\n",
       "<table border=\"1\" class=\"dataframe\">\n",
       "  <thead>\n",
       "    <tr style=\"text-align: right;\">\n",
       "      <th></th>\n",
       "      <th>realtime_start</th>\n",
       "      <th>realtime_end</th>\n",
       "      <th>date</th>\n",
       "      <th>value</th>\n",
       "    </tr>\n",
       "  </thead>\n",
       "  <tbody>\n",
       "    <tr>\n",
       "      <th>0</th>\n",
       "      <td>2022-04-25</td>\n",
       "      <td>2022-04-25</td>\n",
       "      <td>1999-01-04</td>\n",
       "      <td>1.1812</td>\n",
       "    </tr>\n",
       "    <tr>\n",
       "      <th>1</th>\n",
       "      <td>2022-04-25</td>\n",
       "      <td>2022-04-25</td>\n",
       "      <td>1999-01-05</td>\n",
       "      <td>1.1760</td>\n",
       "    </tr>\n",
       "    <tr>\n",
       "      <th>2</th>\n",
       "      <td>2022-04-25</td>\n",
       "      <td>2022-04-25</td>\n",
       "      <td>1999-01-06</td>\n",
       "      <td>1.1636</td>\n",
       "    </tr>\n",
       "    <tr>\n",
       "      <th>3</th>\n",
       "      <td>2022-04-25</td>\n",
       "      <td>2022-04-25</td>\n",
       "      <td>1999-01-07</td>\n",
       "      <td>1.1672</td>\n",
       "    </tr>\n",
       "    <tr>\n",
       "      <th>4</th>\n",
       "      <td>2022-04-25</td>\n",
       "      <td>2022-04-25</td>\n",
       "      <td>1999-01-08</td>\n",
       "      <td>1.1554</td>\n",
       "    </tr>\n",
       "    <tr>\n",
       "      <th>...</th>\n",
       "      <td>...</td>\n",
       "      <td>...</td>\n",
       "      <td>...</td>\n",
       "      <td>...</td>\n",
       "    </tr>\n",
       "    <tr>\n",
       "      <th>6070</th>\n",
       "      <td>2022-04-25</td>\n",
       "      <td>2022-04-25</td>\n",
       "      <td>2022-04-11</td>\n",
       "      <td>1.0875</td>\n",
       "    </tr>\n",
       "    <tr>\n",
       "      <th>6071</th>\n",
       "      <td>2022-04-25</td>\n",
       "      <td>2022-04-25</td>\n",
       "      <td>2022-04-12</td>\n",
       "      <td>1.0852</td>\n",
       "    </tr>\n",
       "    <tr>\n",
       "      <th>6072</th>\n",
       "      <td>2022-04-25</td>\n",
       "      <td>2022-04-25</td>\n",
       "      <td>2022-04-13</td>\n",
       "      <td>1.0874</td>\n",
       "    </tr>\n",
       "    <tr>\n",
       "      <th>6073</th>\n",
       "      <td>2022-04-25</td>\n",
       "      <td>2022-04-25</td>\n",
       "      <td>2022-04-14</td>\n",
       "      <td>1.0796</td>\n",
       "    </tr>\n",
       "    <tr>\n",
       "      <th>6074</th>\n",
       "      <td>2022-04-25</td>\n",
       "      <td>2022-04-25</td>\n",
       "      <td>2022-04-15</td>\n",
       "      <td>1.0812</td>\n",
       "    </tr>\n",
       "  </tbody>\n",
       "</table>\n",
       "<p>6075 rows × 4 columns</p>\n",
       "</div>"
      ],
      "text/plain": [
       "     realtime_start realtime_end        date   value\n",
       "0        2022-04-25   2022-04-25  1999-01-04  1.1812\n",
       "1        2022-04-25   2022-04-25  1999-01-05  1.1760\n",
       "2        2022-04-25   2022-04-25  1999-01-06  1.1636\n",
       "3        2022-04-25   2022-04-25  1999-01-07  1.1672\n",
       "4        2022-04-25   2022-04-25  1999-01-08  1.1554\n",
       "...             ...          ...         ...     ...\n",
       "6070     2022-04-25   2022-04-25  2022-04-11  1.0875\n",
       "6071     2022-04-25   2022-04-25  2022-04-12  1.0852\n",
       "6072     2022-04-25   2022-04-25  2022-04-13  1.0874\n",
       "6073     2022-04-25   2022-04-25  2022-04-14  1.0796\n",
       "6074     2022-04-25   2022-04-25  2022-04-15  1.0812\n",
       "\n",
       "[6075 rows x 4 columns]"
      ]
     },
     "execution_count": 39,
     "metadata": {},
     "output_type": "execute_result"
    }
   ],
   "source": [
    "df_EURUSD"
   ]
  },
  {
   "cell_type": "code",
   "execution_count": 40,
   "id": "2477b203-1b73-4f21-96d4-ebb06b558528",
   "metadata": {},
   "outputs": [],
   "source": [
    "df_EURUSD = clean_df(df_EURUSD)"
   ]
  },
  {
   "cell_type": "code",
   "execution_count": 41,
   "id": "b2582c6c-cea8-47a1-beda-0b26723e43de",
   "metadata": {},
   "outputs": [
    {
     "data": {
      "text/html": [
       "<div>\n",
       "<style scoped>\n",
       "    .dataframe tbody tr th:only-of-type {\n",
       "        vertical-align: middle;\n",
       "    }\n",
       "\n",
       "    .dataframe tbody tr th {\n",
       "        vertical-align: top;\n",
       "    }\n",
       "\n",
       "    .dataframe thead th {\n",
       "        text-align: right;\n",
       "    }\n",
       "</style>\n",
       "<table border=\"1\" class=\"dataframe\">\n",
       "  <thead>\n",
       "    <tr style=\"text-align: right;\">\n",
       "      <th></th>\n",
       "      <th>value</th>\n",
       "    </tr>\n",
       "    <tr>\n",
       "      <th>date</th>\n",
       "      <th></th>\n",
       "    </tr>\n",
       "  </thead>\n",
       "  <tbody>\n",
       "    <tr>\n",
       "      <th>1999-01-04</th>\n",
       "      <td>1.1812</td>\n",
       "    </tr>\n",
       "    <tr>\n",
       "      <th>1999-01-05</th>\n",
       "      <td>1.1760</td>\n",
       "    </tr>\n",
       "    <tr>\n",
       "      <th>1999-01-06</th>\n",
       "      <td>1.1636</td>\n",
       "    </tr>\n",
       "    <tr>\n",
       "      <th>1999-01-07</th>\n",
       "      <td>1.1672</td>\n",
       "    </tr>\n",
       "    <tr>\n",
       "      <th>1999-01-08</th>\n",
       "      <td>1.1554</td>\n",
       "    </tr>\n",
       "    <tr>\n",
       "      <th>...</th>\n",
       "      <td>...</td>\n",
       "    </tr>\n",
       "    <tr>\n",
       "      <th>2022-04-11</th>\n",
       "      <td>1.0875</td>\n",
       "    </tr>\n",
       "    <tr>\n",
       "      <th>2022-04-12</th>\n",
       "      <td>1.0852</td>\n",
       "    </tr>\n",
       "    <tr>\n",
       "      <th>2022-04-13</th>\n",
       "      <td>1.0874</td>\n",
       "    </tr>\n",
       "    <tr>\n",
       "      <th>2022-04-14</th>\n",
       "      <td>1.0796</td>\n",
       "    </tr>\n",
       "    <tr>\n",
       "      <th>2022-04-15</th>\n",
       "      <td>1.0812</td>\n",
       "    </tr>\n",
       "  </tbody>\n",
       "</table>\n",
       "<p>5843 rows × 1 columns</p>\n",
       "</div>"
      ],
      "text/plain": [
       "             value\n",
       "date              \n",
       "1999-01-04  1.1812\n",
       "1999-01-05  1.1760\n",
       "1999-01-06  1.1636\n",
       "1999-01-07  1.1672\n",
       "1999-01-08  1.1554\n",
       "...            ...\n",
       "2022-04-11  1.0875\n",
       "2022-04-12  1.0852\n",
       "2022-04-13  1.0874\n",
       "2022-04-14  1.0796\n",
       "2022-04-15  1.0812\n",
       "\n",
       "[5843 rows x 1 columns]"
      ]
     },
     "execution_count": 41,
     "metadata": {},
     "output_type": "execute_result"
    }
   ],
   "source": [
    "df_EURUSD"
   ]
  },
  {
   "cell_type": "code",
   "execution_count": 42,
   "id": "94c5aec1-2c56-4283-bfa9-9c18513e17b7",
   "metadata": {},
   "outputs": [
    {
     "data": {
      "text/plain": [
       "<AxesSubplot:xlabel='date'>"
      ]
     },
     "execution_count": 42,
     "metadata": {},
     "output_type": "execute_result"
    },
    {
     "data": {
      "image/png": "[encoded data removed]",
      "text/plain": [
       "<Figure size 432x288 with 1 Axes>"
      ]
     },
     "metadata": {
      "needs_background": "light"
     },
     "output_type": "display_data"
    }
   ],
   "source": [
    "df_EURUSD.plot()"
   ]
  },
  {
   "cell_type": "code",
   "execution_count": 43,
   "id": "fa5a54fc-d24d-4fe6-aec6-515c466c233a",
   "metadata": {},
   "outputs": [],
   "source": [
    "# Example 2: I can also get another time-series, clean it, and plot it against EURUSD on separate y-axis:\n",
    "df_US_IR = fred.get_series_df('DGS10')\n",
    "df_US_IR = clean_df(df_US_IR)"
   ]
  },
  {
   "cell_type": "code",
   "execution_count": null,
   "id": "19654559-8f4d-4384-86d0-6b50bdd8e786",
   "metadata": {},
   "outputs": [],
   "source": []
  },
  {
   "cell_type": "code",
   "execution_count": 46,
   "id": "9ce96623-c5c0-4215-8557-e04c38382c2c",
   "metadata": {},
   "outputs": [
    {
     "data": {
      "text/plain": [
       "[<matplotlib.lines.Line2D at 0x7fc300b058b0>]"
      ]
     },
     "execution_count": 46,
     "metadata": {},
     "output_type": "execute_result"
    },
    {
     "data": {
      "image/png": "[encoded data removed]",
      "text/plain": [
       "<Figure size 432x288 with 2 Axes>"
      ]
     },
     "metadata": {
      "needs_background": "light"
     },
     "output_type": "display_data"
    }
   ],
   "source": [
    "fig, ax1 = plt.subplots()\n",
    "ax1.plot(df_US_IR)\n",
    "ax2 = ax1.twinx()\n",
    "ax2.plot(df_EURUSD)"
   ]
  },
  {
   "cell_type": "code",
   "execution_count": null,
   "id": "7d66e93e-6db0-4e88-a061-6eee21cf62c9",
   "metadata": {},
   "outputs": [],
   "source": [
    "# Example 3: Get EUR-interest rates, combine them with US-interest rates into one DataFrame, and..."
   ]
  },
  {
   "cell_type": "code",
   "execution_count": 54,
   "id": "13fbc100-688a-47dd-a80d-bcf6567f2b82",
   "metadata": {},
   "outputs": [],
   "source": [
    "df_EUR_IR = fred.get_series_df('INTGSBEZM193N')\n",
    "df_EUR_IR = clean_df(df_EUR_IR)"
   ]
  },
  {
   "cell_type": "code",
   "execution_count": null,
   "id": "5b694826-7029-4fe0-8b7d-67ad8ddfa8f6",
   "metadata": {},
   "outputs": [],
   "source": []
  },
  {
   "cell_type": "code",
   "execution_count": 55,
   "id": "9d0af0c8-8ecb-4431-a75e-12ccbdac54d0",
   "metadata": {},
   "outputs": [],
   "source": [
    "# Merge\n",
    "df_new = df_US_IR.merge(df_EUR_IR, how='outer', on='date', sort=True)\n",
    "\n",
    "# Rename column-headers\n",
    "new_col = {'value_x': 'US_IR', 'value_y':'EUR_IR'}\n",
    "df_new.rename(columns=new_col, inplace=True)"
   ]
  },
  {
   "cell_type": "code",
   "execution_count": 61,
   "id": "6c17f3e7-4d1a-4cde-abea-f91388a83edf",
   "metadata": {},
   "outputs": [
    {
     "data": {
      "text/html": [
       "<div>\n",
       "<style scoped>\n",
       "    .dataframe tbody tr th:only-of-type {\n",
       "        vertical-align: middle;\n",
       "    }\n",
       "\n",
       "    .dataframe tbody tr th {\n",
       "        vertical-align: top;\n",
       "    }\n",
       "\n",
       "    .dataframe thead th {\n",
       "        text-align: right;\n",
       "    }\n",
       "</style>\n",
       "<table border=\"1\" class=\"dataframe\">\n",
       "  <thead>\n",
       "    <tr style=\"text-align: right;\">\n",
       "      <th></th>\n",
       "      <th>US_IR</th>\n",
       "      <th>EUR_IR</th>\n",
       "    </tr>\n",
       "    <tr>\n",
       "      <th>date</th>\n",
       "      <th></th>\n",
       "      <th></th>\n",
       "    </tr>\n",
       "  </thead>\n",
       "  <tbody>\n",
       "    <tr>\n",
       "      <th>1962-01-02</th>\n",
       "      <td>4.06</td>\n",
       "      <td>NaN</td>\n",
       "    </tr>\n",
       "    <tr>\n",
       "      <th>1962-01-03</th>\n",
       "      <td>4.03</td>\n",
       "      <td>NaN</td>\n",
       "    </tr>\n",
       "    <tr>\n",
       "      <th>1962-01-04</th>\n",
       "      <td>3.99</td>\n",
       "      <td>NaN</td>\n",
       "    </tr>\n",
       "    <tr>\n",
       "      <th>1962-01-05</th>\n",
       "      <td>4.02</td>\n",
       "      <td>NaN</td>\n",
       "    </tr>\n",
       "    <tr>\n",
       "      <th>1962-01-08</th>\n",
       "      <td>4.03</td>\n",
       "      <td>NaN</td>\n",
       "    </tr>\n",
       "    <tr>\n",
       "      <th>...</th>\n",
       "      <td>...</td>\n",
       "      <td>...</td>\n",
       "    </tr>\n",
       "    <tr>\n",
       "      <th>2022-04-14</th>\n",
       "      <td>2.83</td>\n",
       "      <td>NaN</td>\n",
       "    </tr>\n",
       "    <tr>\n",
       "      <th>2022-04-18</th>\n",
       "      <td>2.85</td>\n",
       "      <td>NaN</td>\n",
       "    </tr>\n",
       "    <tr>\n",
       "      <th>2022-04-19</th>\n",
       "      <td>2.93</td>\n",
       "      <td>NaN</td>\n",
       "    </tr>\n",
       "    <tr>\n",
       "      <th>2022-04-20</th>\n",
       "      <td>2.85</td>\n",
       "      <td>NaN</td>\n",
       "    </tr>\n",
       "    <tr>\n",
       "      <th>2022-04-21</th>\n",
       "      <td>2.90</td>\n",
       "      <td>NaN</td>\n",
       "    </tr>\n",
       "  </tbody>\n",
       "</table>\n",
       "<p>15269 rows × 2 columns</p>\n",
       "</div>"
      ],
      "text/plain": [
       "            US_IR  EUR_IR\n",
       "date                     \n",
       "1962-01-02   4.06     NaN\n",
       "1962-01-03   4.03     NaN\n",
       "1962-01-04   3.99     NaN\n",
       "1962-01-05   4.02     NaN\n",
       "1962-01-08   4.03     NaN\n",
       "...           ...     ...\n",
       "2022-04-14   2.83     NaN\n",
       "2022-04-18   2.85     NaN\n",
       "2022-04-19   2.93     NaN\n",
       "2022-04-20   2.85     NaN\n",
       "2022-04-21   2.90     NaN\n",
       "\n",
       "[15269 rows x 2 columns]"
      ]
     },
     "execution_count": 61,
     "metadata": {},
     "output_type": "execute_result"
    }
   ],
   "source": [
    "df_new"
   ]
  },
  {
   "cell_type": "code",
   "execution_count": 69,
   "id": "d7c40e9f-ccae-4585-880e-8c75e756ce85",
   "metadata": {},
   "outputs": [
    {
     "data": {
      "text/html": [
       "<div>\n",
       "<style scoped>\n",
       "    .dataframe tbody tr th:only-of-type {\n",
       "        vertical-align: middle;\n",
       "    }\n",
       "\n",
       "    .dataframe tbody tr th {\n",
       "        vertical-align: top;\n",
       "    }\n",
       "\n",
       "    .dataframe thead th {\n",
       "        text-align: right;\n",
       "    }\n",
       "</style>\n",
       "<table border=\"1\" class=\"dataframe\">\n",
       "  <thead>\n",
       "    <tr style=\"text-align: right;\">\n",
       "      <th></th>\n",
       "      <th>value</th>\n",
       "    </tr>\n",
       "    <tr>\n",
       "      <th>date</th>\n",
       "      <th></th>\n",
       "    </tr>\n",
       "  </thead>\n",
       "  <tbody>\n",
       "    <tr>\n",
       "      <th>1970-01-01</th>\n",
       "      <td>7.7526</td>\n",
       "    </tr>\n",
       "    <tr>\n",
       "      <th>1970-02-01</th>\n",
       "      <td>7.9037</td>\n",
       "    </tr>\n",
       "    <tr>\n",
       "      <th>1970-03-01</th>\n",
       "      <td>8.1123</td>\n",
       "    </tr>\n",
       "    <tr>\n",
       "      <th>1970-04-01</th>\n",
       "      <td>8.0727</td>\n",
       "    </tr>\n",
       "    <tr>\n",
       "      <th>1970-05-01</th>\n",
       "      <td>8.2432</td>\n",
       "    </tr>\n",
       "    <tr>\n",
       "      <th>...</th>\n",
       "      <td>...</td>\n",
       "    </tr>\n",
       "    <tr>\n",
       "      <th>2017-01-01</th>\n",
       "      <td>1.3139</td>\n",
       "    </tr>\n",
       "    <tr>\n",
       "      <th>2017-02-01</th>\n",
       "      <td>1.4452</td>\n",
       "    </tr>\n",
       "    <tr>\n",
       "      <th>2017-03-01</th>\n",
       "      <td>1.4599</td>\n",
       "    </tr>\n",
       "    <tr>\n",
       "      <th>2017-04-01</th>\n",
       "      <td>1.2643</td>\n",
       "    </tr>\n",
       "    <tr>\n",
       "      <th>2017-05-01</th>\n",
       "      <td>1.1762</td>\n",
       "    </tr>\n",
       "  </tbody>\n",
       "</table>\n",
       "<p>569 rows × 1 columns</p>\n",
       "</div>"
      ],
      "text/plain": [
       "             value\n",
       "date              \n",
       "1970-01-01  7.7526\n",
       "1970-02-01  7.9037\n",
       "1970-03-01  8.1123\n",
       "1970-04-01  8.0727\n",
       "1970-05-01  8.2432\n",
       "...            ...\n",
       "2017-01-01  1.3139\n",
       "2017-02-01  1.4452\n",
       "2017-03-01  1.4599\n",
       "2017-04-01  1.2643\n",
       "2017-05-01  1.1762\n",
       "\n",
       "[569 rows x 1 columns]"
      ]
     },
     "execution_count": 69,
     "metadata": {},
     "output_type": "execute_result"
    }
   ],
   "source": [
    "df_EUR_IR"
   ]
  },
  {
   "cell_type": "code",
   "execution_count": 70,
   "id": "28c126f1-c3a1-4fc7-b879-8151e6e9553d",
   "metadata": {},
   "outputs": [
    {
     "data": {
      "text/html": [
       "<div>\n",
       "<style scoped>\n",
       "    .dataframe tbody tr th:only-of-type {\n",
       "        vertical-align: middle;\n",
       "    }\n",
       "\n",
       "    .dataframe tbody tr th {\n",
       "        vertical-align: top;\n",
       "    }\n",
       "\n",
       "    .dataframe thead th {\n",
       "        text-align: right;\n",
       "    }\n",
       "</style>\n",
       "<table border=\"1\" class=\"dataframe\">\n",
       "  <thead>\n",
       "    <tr style=\"text-align: right;\">\n",
       "      <th></th>\n",
       "      <th>value</th>\n",
       "    </tr>\n",
       "    <tr>\n",
       "      <th>date</th>\n",
       "      <th></th>\n",
       "    </tr>\n",
       "  </thead>\n",
       "  <tbody>\n",
       "    <tr>\n",
       "      <th>1962-01-02</th>\n",
       "      <td>4.06</td>\n",
       "    </tr>\n",
       "    <tr>\n",
       "      <th>1962-01-03</th>\n",
       "      <td>4.03</td>\n",
       "    </tr>\n",
       "    <tr>\n",
       "      <th>1962-01-04</th>\n",
       "      <td>3.99</td>\n",
       "    </tr>\n",
       "    <tr>\n",
       "      <th>1962-01-05</th>\n",
       "      <td>4.02</td>\n",
       "    </tr>\n",
       "    <tr>\n",
       "      <th>1962-01-08</th>\n",
       "      <td>4.03</td>\n",
       "    </tr>\n",
       "    <tr>\n",
       "      <th>...</th>\n",
       "      <td>...</td>\n",
       "    </tr>\n",
       "    <tr>\n",
       "      <th>2022-04-14</th>\n",
       "      <td>2.83</td>\n",
       "    </tr>\n",
       "    <tr>\n",
       "      <th>2022-04-18</th>\n",
       "      <td>2.85</td>\n",
       "    </tr>\n",
       "    <tr>\n",
       "      <th>2022-04-19</th>\n",
       "      <td>2.93</td>\n",
       "    </tr>\n",
       "    <tr>\n",
       "      <th>2022-04-20</th>\n",
       "      <td>2.85</td>\n",
       "    </tr>\n",
       "    <tr>\n",
       "      <th>2022-04-21</th>\n",
       "      <td>2.90</td>\n",
       "    </tr>\n",
       "  </tbody>\n",
       "</table>\n",
       "<p>15062 rows × 1 columns</p>\n",
       "</div>"
      ],
      "text/plain": [
       "            value\n",
       "date             \n",
       "1962-01-02   4.06\n",
       "1962-01-03   4.03\n",
       "1962-01-04   3.99\n",
       "1962-01-05   4.02\n",
       "1962-01-08   4.03\n",
       "...           ...\n",
       "2022-04-14   2.83\n",
       "2022-04-18   2.85\n",
       "2022-04-19   2.93\n",
       "2022-04-20   2.85\n",
       "2022-04-21   2.90\n",
       "\n",
       "[15062 rows x 1 columns]"
      ]
     },
     "execution_count": 70,
     "metadata": {},
     "output_type": "execute_result"
    }
   ],
   "source": [
    "df_US_IR"
   ]
  },
  {
   "cell_type": "code",
   "execution_count": 75,
   "id": "4fd7f49d-2452-475e-98c4-fc159d4ab967",
   "metadata": {},
   "outputs": [
    {
     "ename": "AttributeError",
     "evalue": "'DataFrame' object has no attribute 'dypes'",
     "output_type": "error",
     "traceback": [
      "\u001b[0;31m---------------------------------------------------------------------------\u001b[0m",
      "\u001b[0;31mAttributeError\u001b[0m                            Traceback (most recent call last)",
      "\u001b[0;32m/var/folders/5n/t1nbcnvs03j05tn5xqglqvtw0000gn/T/ipykernel_9317/2170555267.py\u001b[0m in \u001b[0;36m<module>\u001b[0;34m\u001b[0m\n\u001b[0;32m----> 1\u001b[0;31m \u001b[0mdf_EUR_IR\u001b[0m\u001b[0;34m.\u001b[0m\u001b[0mdypes\u001b[0m\u001b[0;34m\u001b[0m\u001b[0;34m\u001b[0m\u001b[0m\n\u001b[0m",
      "\u001b[0;32m~/opt/anaconda3/lib/python3.9/site-packages/pandas/core/generic.py\u001b[0m in \u001b[0;36m__getattr__\u001b[0;34m(self, name)\u001b[0m\n\u001b[1;32m   5485\u001b[0m         ):\n\u001b[1;32m   5486\u001b[0m             \u001b[0;32mreturn\u001b[0m \u001b[0mself\u001b[0m\u001b[0;34m[\u001b[0m\u001b[0mname\u001b[0m\u001b[0;34m]\u001b[0m\u001b[0;34m\u001b[0m\u001b[0;34m\u001b[0m\u001b[0m\n\u001b[0;32m-> 5487\u001b[0;31m         \u001b[0;32mreturn\u001b[0m \u001b[0mobject\u001b[0m\u001b[0;34m.\u001b[0m\u001b[0m__getattribute__\u001b[0m\u001b[0;34m(\u001b[0m\u001b[0mself\u001b[0m\u001b[0;34m,\u001b[0m \u001b[0mname\u001b[0m\u001b[0;34m)\u001b[0m\u001b[0;34m\u001b[0m\u001b[0;34m\u001b[0m\u001b[0m\n\u001b[0m\u001b[1;32m   5488\u001b[0m \u001b[0;34m\u001b[0m\u001b[0m\n\u001b[1;32m   5489\u001b[0m     \u001b[0;32mdef\u001b[0m \u001b[0m__setattr__\u001b[0m\u001b[0;34m(\u001b[0m\u001b[0mself\u001b[0m\u001b[0;34m,\u001b[0m \u001b[0mname\u001b[0m\u001b[0;34m:\u001b[0m \u001b[0mstr\u001b[0m\u001b[0;34m,\u001b[0m \u001b[0mvalue\u001b[0m\u001b[0;34m)\u001b[0m \u001b[0;34m->\u001b[0m \u001b[0;32mNone\u001b[0m\u001b[0;34m:\u001b[0m\u001b[0;34m\u001b[0m\u001b[0;34m\u001b[0m\u001b[0m\n",
      "\u001b[0;31mAttributeError\u001b[0m: 'DataFrame' object has no attribute 'dypes'"
     ]
    }
   ],
   "source": [
    "df_EUR_IR.dypes"
   ]
  },
  {
   "cell_type": "code",
   "execution_count": null,
   "id": "20bf03a4-78e0-4070-b39a-3a973dda9391",
   "metadata": {},
   "outputs": [],
   "source": []
  },
  {
   "cell_type": "code",
   "execution_count": null,
   "id": "cddded90-b3ea-432a-91f9-876b9fcbfefd",
   "metadata": {},
   "outputs": [],
   "source": []
  },
  {
   "cell_type": "code",
   "execution_count": null,
   "id": "996df5d0-d8c7-41e6-a5bc-432517a6f3cf",
   "metadata": {},
   "outputs": [],
   "source": []
  },
  {
   "cell_type": "code",
   "execution_count": null,
   "id": "989e29e6-fc48-41ee-a43a-2bae78cad96b",
   "metadata": {},
   "outputs": [],
   "source": []
  },
  {
   "cell_type": "code",
   "execution_count": null,
   "id": "9dacfd1e-6069-4daf-a3d7-4c70f998daca",
   "metadata": {},
   "outputs": [],
   "source": [
    "df.plot(x=\"Name\", y=[\"Price\", \"User Rating\"], kind=\"bar\", figsize=(9, 8))\n",
    "\n",
    "\n",
    "\n"
   ]
  },
  {
   "cell_type": "code",
   "execution_count": 60,
   "id": "bb4297d4-acdb-4034-8657-ee4137a95cd3",
   "metadata": {},
   "outputs": [
    {
     "data": {
      "text/plain": [
       "<AxesSubplot:xlabel='date'>"
      ]
     },
     "execution_count": 60,
     "metadata": {},
     "output_type": "execute_result"
    },
    {
     "data": {
      "image/png": "[encoded data removed]",
      "text/plain": [
       "<Figure size 432x288 with 1 Axes>"
      ]
     },
     "metadata": {
      "needs_background": "light"
     },
     "output_type": "display_data"
    }
   ],
   "source": [
    "df_new.plot(y=[\"US_IR\", \"EUR_IR\"], kind=\"line\")"
   ]
  },
  {
   "cell_type": "code",
   "execution_count": null,
   "id": "5da87450-8cc3-4528-8ea7-b06dd38fe4b2",
   "metadata": {},
   "outputs": [],
   "source": []
  },
  {
   "cell_type": "code",
   "execution_count": 21,
   "id": "c287a1db-9186-4e48-b38b-8b67392387f6",
   "metadata": {},
   "outputs": [],
   "source": [
    "df_CPI = fred.get_series_df('FPCPITOTLZGUSA')"
   ]
  },
  {
   "cell_type": "code",
   "execution_count": null,
   "id": "64f4ee34-1e0e-4498-8a74-04d1c5c2f6d6",
   "metadata": {},
   "outputs": [],
   "source": []
  },
  {
   "cell_type": "code",
   "execution_count": null,
   "id": "334cdefd-9d31-40c3-b48d-17e23f970030",
   "metadata": {},
   "outputs": [],
   "source": []
  },
  {
   "cell_type": "code",
   "execution_count": null,
   "id": "37f25f32-82e0-4bef-abe3-b3eca206512a",
   "metadata": {},
   "outputs": [],
   "source": []
  },
  {
   "cell_type": "code",
   "execution_count": null,
   "id": "b3558ad8-53ad-49ac-939b-c096d4048afc",
   "metadata": {},
   "outputs": [],
   "source": []
  },
  {
   "cell_type": "code",
   "execution_count": null,
   "id": "40f14f95-22a8-4025-8518-4567207ccb80",
   "metadata": {},
   "outputs": [],
   "source": []
  },
  {
   "cell_type": "code",
   "execution_count": null,
   "id": "1638dc2f-28a5-4f82-8f1f-74051c1bc21d",
   "metadata": {},
   "outputs": [],
   "source": []
  },
  {
   "cell_type": "code",
   "execution_count": 34,
   "id": "1fd7ef94",
   "metadata": {
    "scrolled": true
   },
   "outputs": [
    {
     "data": {
      "text/plain": [
       "{'categories': [{'id': 32991,\n",
       "   'name': 'Money, Banking, & Finance',\n",
       "   'parent_id': 0},\n",
       "  {'id': 10,\n",
       "   'name': 'Population, Employment, & Labor Markets',\n",
       "   'parent_id': 0},\n",
       "  {'id': 32992, 'name': 'National Accounts', 'parent_id': 0},\n",
       "  {'id': 1, 'name': 'Production & Business Activity', 'parent_id': 0},\n",
       "  {'id': 32455, 'name': 'Prices', 'parent_id': 0},\n",
       "  {'id': 32263, 'name': 'International Data', 'parent_id': 0},\n",
       "  {'id': 3008, 'name': 'U.S. Regional Data', 'parent_id': 0},\n",
       "  {'id': 33060, 'name': 'Academic Data', 'parent_id': 0}]}"
      ]
     },
     "execution_count": 34,
     "metadata": {},
     "output_type": "execute_result"
    }
   ],
   "source": [
    "fred.get_child_categories(0)"
   ]
  },
  {
   "cell_type": "code",
   "execution_count": 35,
   "id": "a9e79173",
   "metadata": {},
   "outputs": [
    {
     "data": {
      "text/plain": [
       "{'categories': [{'id': 32991,\n",
       "   'name': 'Money, Banking, & Finance',\n",
       "   'parent_id': 0},\n",
       "  {'id': 10,\n",
       "   'name': 'Population, Employment, & Labor Markets',\n",
       "   'parent_id': 0},\n",
       "  {'id': 32992, 'name': 'National Accounts', 'parent_id': 0},\n",
       "  {'id': 1, 'name': 'Production & Business Activity', 'parent_id': 0},\n",
       "  {'id': 32455, 'name': 'Prices', 'parent_id': 0},\n",
       "  {'id': 32263, 'name': 'International Data', 'parent_id': 0},\n",
       "  {'id': 3008, 'name': 'U.S. Regional Data', 'parent_id': 0},\n",
       "  {'id': 33060, 'name': 'Academic Data', 'parent_id': 0}]}"
      ]
     },
     "execution_count": 35,
     "metadata": {},
     "output_type": "execute_result"
    }
   ],
   "source": [
    "fred.category_stack['get_child_categories']"
   ]
  },
  {
   "cell_type": "code",
   "execution_count": 36,
   "id": "d78a0cbd",
   "metadata": {},
   "outputs": [
    {
     "data": {
      "text/plain": [
       "{'categories': [{'id': 32217, 'name': 'Commodities', 'parent_id': 32455},\n",
       "  {'id': 9,\n",
       "   'name': 'Consumer Price Indexes (CPI and PCE)',\n",
       "   'parent_id': 32455},\n",
       "  {'id': 33913, 'name': 'Cryptocurrencies', 'parent_id': 32455},\n",
       "  {'id': 4, 'name': 'Employment Cost Index', 'parent_id': 32455},\n",
       "  {'id': 33717, 'name': 'Health Care Indexes', 'parent_id': 32455},\n",
       "  {'id': 32261, 'name': 'House Price Indexes', 'parent_id': 32455},\n",
       "  {'id': 31, 'name': 'Producer Price Indexes (PPI)', 'parent_id': 32455},\n",
       "  {'id': 32220, 'name': 'Trade Indexes', 'parent_id': 32455}]}"
      ]
     },
     "execution_count": 36,
     "metadata": {},
     "output_type": "execute_result"
    }
   ],
   "source": [
    "fred.get_child_categories(32455)"
   ]
  },
  {
   "cell_type": "code",
   "execution_count": 37,
   "id": "a5ce89c3",
   "metadata": {},
   "outputs": [
    {
     "data": {
      "text/plain": [
       "{'categories': [{'id': 32415, 'name': 'Food and Beverages', 'parent_id': 9},\n",
       "  {'id': 32416, 'name': 'Housing', 'parent_id': 9},\n",
       "  {'id': 32417, 'name': 'Apparel', 'parent_id': 9},\n",
       "  {'id': 32418, 'name': 'Transportation', 'parent_id': 9},\n",
       "  {'id': 32419, 'name': 'Medical Care', 'parent_id': 9},\n",
       "  {'id': 32420, 'name': 'Recreation', 'parent_id': 9},\n",
       "  {'id': 32421, 'name': 'Education and Communication', 'parent_id': 9},\n",
       "  {'id': 32422, 'name': 'Other Goods and Services', 'parent_id': 9},\n",
       "  {'id': 32423, 'name': 'Commodity and Services Groups', 'parent_id': 9},\n",
       "  {'id': 32424, 'name': 'Special Indexes', 'parent_id': 9}]}"
      ]
     },
     "execution_count": 37,
     "metadata": {},
     "output_type": "execute_result"
    }
   ],
   "source": [
    "fred.get_child_categories(9)"
   ]
  },
  {
   "cell_type": "code",
   "execution_count": null,
   "id": "1c13d5ea",
   "metadata": {},
   "outputs": [],
   "source": []
  },
  {
   "cell_type": "code",
   "execution_count": null,
   "id": "ca3c0b59",
   "metadata": {},
   "outputs": [],
   "source": []
  },
  {
   "cell_type": "code",
   "execution_count": null,
   "id": "09a516db",
   "metadata": {},
   "outputs": [],
   "source": []
  },
  {
   "cell_type": "code",
   "execution_count": null,
   "id": "263236ac",
   "metadata": {},
   "outputs": [],
   "source": [
    "\n"
   ]
  },
  {
   "cell_type": "code",
   "execution_count": null,
   "id": "e598e8ce",
   "metadata": {},
   "outputs": [],
   "source": []
  },
  {
   "cell_type": "code",
   "execution_count": null,
   "id": "71283bda",
   "metadata": {},
   "outputs": [],
   "source": []
  },
  {
   "cell_type": "code",
   "execution_count": null,
   "id": "79537e15",
   "metadata": {},
   "outputs": [],
   "source": []
  },
  {
   "cell_type": "code",
   "execution_count": null,
   "id": "15ff6c0f",
   "metadata": {},
   "outputs": [],
   "source": []
  }
 ],
 "metadata": {
  "kernelspec": {
   "display_name": "Python 3 (ipykernel)",
   "language": "python",
   "name": "python3"
  },
  "language_info": {
   "codemirror_mode": {
    "name": "ipython",
    "version": 3
   },
   "file_extension": ".py",
   "mimetype": "text/x-python",
   "name": "python",
   "nbconvert_exporter": "python",
   "pygments_lexer": "ipython3",
   "version": "3.9.7"
  }
 },
 "nbformat": 4,
 "nbformat_minor": 5
}
